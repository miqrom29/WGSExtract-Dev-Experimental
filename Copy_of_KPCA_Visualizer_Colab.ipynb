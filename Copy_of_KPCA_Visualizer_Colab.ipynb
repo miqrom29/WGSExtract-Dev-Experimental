{
  "cells": [
    {
      "cell_type": "markdown",
      "metadata": {
        "id": "view-in-github",
        "colab_type": "text"
      },
      "source": [
        "<a href=\"https://colab.research.google.com/github/miqrom29/WGSExtract-Dev-Experimental/blob/master/Copy_of_KPCA_Visualizer_Colab.ipynb\" target=\"_parent\"><img src=\"https://colab.research.google.com/assets/colab-badge.svg\" alt=\"Open In Colab\"/></a>"
      ]
    },
    {
      "cell_type": "markdown",
      "metadata": {
        "id": "Q0XZ8v0Oxve6"
      },
      "source": [
        "# 📌 Kernel PCA 3D Visualizer per a G25 (Google Colab)\n",
        "### 🔹 Carrega, processa i visualitza dades Kernel PCA de G25 en 3D\n",
        "✅ **Funcionalitats**:\n",
        "- Carregar fitxers CSV amb coordenades **Kernel PCA**\n",
        "- Visualitzar gràfics interactius en **3D** amb colors per regió\n",
        "- Filtrar mostres per **país, període o clúster genètic**\n",
        "- Opció per desar les visualitzacions en format imatge\n",
        "---\n",
        "## 📌 **PAS 1: Instal·lar llibreries necessàries**\n"
      ]
    },
    {
      "cell_type": "code",
      "metadata": {
        "colab": {
          "base_uri": "https://localhost:8080/"
        },
        "id": "QiqjVGf1xvfD",
        "outputId": "f22ab1df-41e8-4118-bb78-2a6e684dcd4b"
      },
      "source": [
        "!pip install pandas numpy matplotlib seaborn plotly"
      ],
      "execution_count": null,
      "outputs": [
        {
          "output_type": "stream",
          "name": "stdout",
          "text": [
            "Requirement already satisfied: pandas in /usr/local/lib/python3.11/dist-packages (2.2.2)\n",
            "Requirement already satisfied: numpy in /usr/local/lib/python3.11/dist-packages (1.26.4)\n",
            "Requirement already satisfied: matplotlib in /usr/local/lib/python3.11/dist-packages (3.10.0)\n",
            "Requirement already satisfied: seaborn in /usr/local/lib/python3.11/dist-packages (0.13.2)\n",
            "Requirement already satisfied: plotly in /usr/local/lib/python3.11/dist-packages (5.24.1)\n",
            "Requirement already satisfied: python-dateutil>=2.8.2 in /usr/local/lib/python3.11/dist-packages (from pandas) (2.8.2)\n",
            "Requirement already satisfied: pytz>=2020.1 in /usr/local/lib/python3.11/dist-packages (from pandas) (2025.1)\n",
            "Requirement already satisfied: tzdata>=2022.7 in /usr/local/lib/python3.11/dist-packages (from pandas) (2025.1)\n",
            "Requirement already satisfied: contourpy>=1.0.1 in /usr/local/lib/python3.11/dist-packages (from matplotlib) (1.3.1)\n",
            "Requirement already satisfied: cycler>=0.10 in /usr/local/lib/python3.11/dist-packages (from matplotlib) (0.12.1)\n",
            "Requirement already satisfied: fonttools>=4.22.0 in /usr/local/lib/python3.11/dist-packages (from matplotlib) (4.56.0)\n",
            "Requirement already satisfied: kiwisolver>=1.3.1 in /usr/local/lib/python3.11/dist-packages (from matplotlib) (1.4.8)\n",
            "Requirement already satisfied: packaging>=20.0 in /usr/local/lib/python3.11/dist-packages (from matplotlib) (24.2)\n",
            "Requirement already satisfied: pillow>=8 in /usr/local/lib/python3.11/dist-packages (from matplotlib) (11.1.0)\n",
            "Requirement already satisfied: pyparsing>=2.3.1 in /usr/local/lib/python3.11/dist-packages (from matplotlib) (3.2.1)\n",
            "Requirement already satisfied: tenacity>=6.2.0 in /usr/local/lib/python3.11/dist-packages (from plotly) (9.0.0)\n",
            "Requirement already satisfied: six>=1.5 in /usr/local/lib/python3.11/dist-packages (from python-dateutil>=2.8.2->pandas) (1.17.0)\n"
          ]
        }
      ]
    },
    {
      "cell_type": "markdown",
      "metadata": {
        "id": "MWqBSt4PxvfG"
      },
      "source": [
        "## 📌 **PAS 2: Muntar Google Drive i carregar el fitxer CSV**"
      ]
    },
    {
      "cell_type": "code",
      "metadata": {
        "colab": {
          "base_uri": "https://localhost:8080/",
          "height": 263
        },
        "id": "2F5jz2DmxvfH",
        "outputId": "ef5c8190-3d21-4b47-de2c-b1f0e6fec52b"
      },
      "source": [
        "from google.colab import drive\n",
        "import pandas as pd\n",
        "\n",
        "# Muntar Google Drive\n",
        "drive.mount('/content/drive')\n",
        "\n",
        "# Ruta al fitxer (MODIFICA-HO SI CAL!)\n",
        "file_path = '/content/drive/MyDrive/G25/livingAncient_Iberianspanish_average_2025_G25.KPCA.csv'\n",
        "\n",
        "# Carregar dades\n",
        "df = pd.read_csv(file_path)\n",
        "print(f'✅ Fitxer carregat correctament: {file_path} ({df.shape[0]} mostres)')\n",
        "df.head()"
      ],
      "execution_count": null,
      "outputs": [
        {
          "output_type": "stream",
          "name": "stdout",
          "text": [
            "Drive already mounted at /content/drive; to attempt to forcibly remount, call drive.mount(\"/content/drive\", force_remount=True).\n",
            "✅ Fitxer carregat correctament: /content/drive/MyDrive/G25/livingAncient_Iberianspanish_average_2025_G25.KPCA.csv (194 mostres)\n"
          ]
        },
        {
          "output_type": "execute_result",
          "data": {
            "text/plain": [
              "                                    Sample    KPCA_1    KPCA_2    KPCA_3  \\\n",
              "0         Spanish_Aragon_(Aragonese)_(n=5) -0.565838 -0.081961  0.135979   \n",
              "1  Spanish_Aragon_North_(Aragonese)_(n=10) -0.525235 -0.255700 -0.018544   \n",
              "2        Spanish_Asturias_(Asturian)_(n=2) -0.416301  0.028596  0.092785   \n",
              "3         Spanish_Baleares_(Catalan)_(n=5) -0.475917  0.015659  0.114417   \n",
              "4  Spanish_Baleares_Ibiza_(Catalan)_(n=13) -0.478442  0.147242  0.217297   \n",
              "\n",
              "     KPCA_4    KPCA_5    KPCA_6    KPCA_7    KPCA_8    KPCA_9  \n",
              "0 -0.157833 -0.085069 -0.048974 -0.039545  0.062663  0.004651  \n",
              "1  0.004169 -0.092898  0.110298  0.035742 -0.026161  0.116956  \n",
              "2 -0.085683 -0.096370  0.125402 -0.106029 -0.157490 -0.040939  \n",
              "3 -0.371774  0.054091  0.011336 -0.012977 -0.053780 -0.117514  \n",
              "4 -0.346860  0.035294 -0.061355 -0.068269 -0.030755 -0.065734  "
            ],
            "text/html": [
              "\n",
              "  <div id=\"df-b4b86f31-7b82-4cdb-bd45-d1d4375db66b\" class=\"colab-df-container\">\n",
              "    <div>\n",
              "<style scoped>\n",
              "    .dataframe tbody tr th:only-of-type {\n",
              "        vertical-align: middle;\n",
              "    }\n",
              "\n",
              "    .dataframe tbody tr th {\n",
              "        vertical-align: top;\n",
              "    }\n",
              "\n",
              "    .dataframe thead th {\n",
              "        text-align: right;\n",
              "    }\n",
              "</style>\n",
              "<table border=\"1\" class=\"dataframe\">\n",
              "  <thead>\n",
              "    <tr style=\"text-align: right;\">\n",
              "      <th></th>\n",
              "      <th>Sample</th>\n",
              "      <th>KPCA_1</th>\n",
              "      <th>KPCA_2</th>\n",
              "      <th>KPCA_3</th>\n",
              "      <th>KPCA_4</th>\n",
              "      <th>KPCA_5</th>\n",
              "      <th>KPCA_6</th>\n",
              "      <th>KPCA_7</th>\n",
              "      <th>KPCA_8</th>\n",
              "      <th>KPCA_9</th>\n",
              "    </tr>\n",
              "  </thead>\n",
              "  <tbody>\n",
              "    <tr>\n",
              "      <th>0</th>\n",
              "      <td>Spanish_Aragon_(Aragonese)_(n=5)</td>\n",
              "      <td>-0.565838</td>\n",
              "      <td>-0.081961</td>\n",
              "      <td>0.135979</td>\n",
              "      <td>-0.157833</td>\n",
              "      <td>-0.085069</td>\n",
              "      <td>-0.048974</td>\n",
              "      <td>-0.039545</td>\n",
              "      <td>0.062663</td>\n",
              "      <td>0.004651</td>\n",
              "    </tr>\n",
              "    <tr>\n",
              "      <th>1</th>\n",
              "      <td>Spanish_Aragon_North_(Aragonese)_(n=10)</td>\n",
              "      <td>-0.525235</td>\n",
              "      <td>-0.255700</td>\n",
              "      <td>-0.018544</td>\n",
              "      <td>0.004169</td>\n",
              "      <td>-0.092898</td>\n",
              "      <td>0.110298</td>\n",
              "      <td>0.035742</td>\n",
              "      <td>-0.026161</td>\n",
              "      <td>0.116956</td>\n",
              "    </tr>\n",
              "    <tr>\n",
              "      <th>2</th>\n",
              "      <td>Spanish_Asturias_(Asturian)_(n=2)</td>\n",
              "      <td>-0.416301</td>\n",
              "      <td>0.028596</td>\n",
              "      <td>0.092785</td>\n",
              "      <td>-0.085683</td>\n",
              "      <td>-0.096370</td>\n",
              "      <td>0.125402</td>\n",
              "      <td>-0.106029</td>\n",
              "      <td>-0.157490</td>\n",
              "      <td>-0.040939</td>\n",
              "    </tr>\n",
              "    <tr>\n",
              "      <th>3</th>\n",
              "      <td>Spanish_Baleares_(Catalan)_(n=5)</td>\n",
              "      <td>-0.475917</td>\n",
              "      <td>0.015659</td>\n",
              "      <td>0.114417</td>\n",
              "      <td>-0.371774</td>\n",
              "      <td>0.054091</td>\n",
              "      <td>0.011336</td>\n",
              "      <td>-0.012977</td>\n",
              "      <td>-0.053780</td>\n",
              "      <td>-0.117514</td>\n",
              "    </tr>\n",
              "    <tr>\n",
              "      <th>4</th>\n",
              "      <td>Spanish_Baleares_Ibiza_(Catalan)_(n=13)</td>\n",
              "      <td>-0.478442</td>\n",
              "      <td>0.147242</td>\n",
              "      <td>0.217297</td>\n",
              "      <td>-0.346860</td>\n",
              "      <td>0.035294</td>\n",
              "      <td>-0.061355</td>\n",
              "      <td>-0.068269</td>\n",
              "      <td>-0.030755</td>\n",
              "      <td>-0.065734</td>\n",
              "    </tr>\n",
              "  </tbody>\n",
              "</table>\n",
              "</div>\n",
              "    <div class=\"colab-df-buttons\">\n",
              "\n",
              "  <div class=\"colab-df-container\">\n",
              "    <button class=\"colab-df-convert\" onclick=\"convertToInteractive('df-b4b86f31-7b82-4cdb-bd45-d1d4375db66b')\"\n",
              "            title=\"Convert this dataframe to an interactive table.\"\n",
              "            style=\"display:none;\">\n",
              "\n",
              "  <svg xmlns=\"http://www.w3.org/2000/svg\" height=\"24px\" viewBox=\"0 -960 960 960\">\n",
              "    <path d=\"M120-120v-720h720v720H120Zm60-500h600v-160H180v160Zm220 220h160v-160H400v160Zm0 220h160v-160H400v160ZM180-400h160v-160H180v160Zm440 0h160v-160H620v160ZM180-180h160v-160H180v160Zm440 0h160v-160H620v160Z\"/>\n",
              "  </svg>\n",
              "    </button>\n",
              "\n",
              "  <style>\n",
              "    .colab-df-container {\n",
              "      display:flex;\n",
              "      gap: 12px;\n",
              "    }\n",
              "\n",
              "    .colab-df-convert {\n",
              "      background-color: #E8F0FE;\n",
              "      border: none;\n",
              "      border-radius: 50%;\n",
              "      cursor: pointer;\n",
              "      display: none;\n",
              "      fill: #1967D2;\n",
              "      height: 32px;\n",
              "      padding: 0 0 0 0;\n",
              "      width: 32px;\n",
              "    }\n",
              "\n",
              "    .colab-df-convert:hover {\n",
              "      background-color: #E2EBFA;\n",
              "      box-shadow: 0px 1px 2px rgba(60, 64, 67, 0.3), 0px 1px 3px 1px rgba(60, 64, 67, 0.15);\n",
              "      fill: #174EA6;\n",
              "    }\n",
              "\n",
              "    .colab-df-buttons div {\n",
              "      margin-bottom: 4px;\n",
              "    }\n",
              "\n",
              "    [theme=dark] .colab-df-convert {\n",
              "      background-color: #3B4455;\n",
              "      fill: #D2E3FC;\n",
              "    }\n",
              "\n",
              "    [theme=dark] .colab-df-convert:hover {\n",
              "      background-color: #434B5C;\n",
              "      box-shadow: 0px 1px 3px 1px rgba(0, 0, 0, 0.15);\n",
              "      filter: drop-shadow(0px 1px 2px rgba(0, 0, 0, 0.3));\n",
              "      fill: #FFFFFF;\n",
              "    }\n",
              "  </style>\n",
              "\n",
              "    <script>\n",
              "      const buttonEl =\n",
              "        document.querySelector('#df-b4b86f31-7b82-4cdb-bd45-d1d4375db66b button.colab-df-convert');\n",
              "      buttonEl.style.display =\n",
              "        google.colab.kernel.accessAllowed ? 'block' : 'none';\n",
              "\n",
              "      async function convertToInteractive(key) {\n",
              "        const element = document.querySelector('#df-b4b86f31-7b82-4cdb-bd45-d1d4375db66b');\n",
              "        const dataTable =\n",
              "          await google.colab.kernel.invokeFunction('convertToInteractive',\n",
              "                                                    [key], {});\n",
              "        if (!dataTable) return;\n",
              "\n",
              "        const docLinkHtml = 'Like what you see? Visit the ' +\n",
              "          '<a target=\"_blank\" href=https://colab.research.google.com/notebooks/data_table.ipynb>data table notebook</a>'\n",
              "          + ' to learn more about interactive tables.';\n",
              "        element.innerHTML = '';\n",
              "        dataTable['output_type'] = 'display_data';\n",
              "        await google.colab.output.renderOutput(dataTable, element);\n",
              "        const docLink = document.createElement('div');\n",
              "        docLink.innerHTML = docLinkHtml;\n",
              "        element.appendChild(docLink);\n",
              "      }\n",
              "    </script>\n",
              "  </div>\n",
              "\n",
              "\n",
              "<div id=\"df-fd3a4a89-956e-47d9-8c9e-78586f73dc1e\">\n",
              "  <button class=\"colab-df-quickchart\" onclick=\"quickchart('df-fd3a4a89-956e-47d9-8c9e-78586f73dc1e')\"\n",
              "            title=\"Suggest charts\"\n",
              "            style=\"display:none;\">\n",
              "\n",
              "<svg xmlns=\"http://www.w3.org/2000/svg\" height=\"24px\"viewBox=\"0 0 24 24\"\n",
              "     width=\"24px\">\n",
              "    <g>\n",
              "        <path d=\"M19 3H5c-1.1 0-2 .9-2 2v14c0 1.1.9 2 2 2h14c1.1 0 2-.9 2-2V5c0-1.1-.9-2-2-2zM9 17H7v-7h2v7zm4 0h-2V7h2v10zm4 0h-2v-4h2v4z\"/>\n",
              "    </g>\n",
              "</svg>\n",
              "  </button>\n",
              "\n",
              "<style>\n",
              "  .colab-df-quickchart {\n",
              "      --bg-color: #E8F0FE;\n",
              "      --fill-color: #1967D2;\n",
              "      --hover-bg-color: #E2EBFA;\n",
              "      --hover-fill-color: #174EA6;\n",
              "      --disabled-fill-color: #AAA;\n",
              "      --disabled-bg-color: #DDD;\n",
              "  }\n",
              "\n",
              "  [theme=dark] .colab-df-quickchart {\n",
              "      --bg-color: #3B4455;\n",
              "      --fill-color: #D2E3FC;\n",
              "      --hover-bg-color: #434B5C;\n",
              "      --hover-fill-color: #FFFFFF;\n",
              "      --disabled-bg-color: #3B4455;\n",
              "      --disabled-fill-color: #666;\n",
              "  }\n",
              "\n",
              "  .colab-df-quickchart {\n",
              "    background-color: var(--bg-color);\n",
              "    border: none;\n",
              "    border-radius: 50%;\n",
              "    cursor: pointer;\n",
              "    display: none;\n",
              "    fill: var(--fill-color);\n",
              "    height: 32px;\n",
              "    padding: 0;\n",
              "    width: 32px;\n",
              "  }\n",
              "\n",
              "  .colab-df-quickchart:hover {\n",
              "    background-color: var(--hover-bg-color);\n",
              "    box-shadow: 0 1px 2px rgba(60, 64, 67, 0.3), 0 1px 3px 1px rgba(60, 64, 67, 0.15);\n",
              "    fill: var(--button-hover-fill-color);\n",
              "  }\n",
              "\n",
              "  .colab-df-quickchart-complete:disabled,\n",
              "  .colab-df-quickchart-complete:disabled:hover {\n",
              "    background-color: var(--disabled-bg-color);\n",
              "    fill: var(--disabled-fill-color);\n",
              "    box-shadow: none;\n",
              "  }\n",
              "\n",
              "  .colab-df-spinner {\n",
              "    border: 2px solid var(--fill-color);\n",
              "    border-color: transparent;\n",
              "    border-bottom-color: var(--fill-color);\n",
              "    animation:\n",
              "      spin 1s steps(1) infinite;\n",
              "  }\n",
              "\n",
              "  @keyframes spin {\n",
              "    0% {\n",
              "      border-color: transparent;\n",
              "      border-bottom-color: var(--fill-color);\n",
              "      border-left-color: var(--fill-color);\n",
              "    }\n",
              "    20% {\n",
              "      border-color: transparent;\n",
              "      border-left-color: var(--fill-color);\n",
              "      border-top-color: var(--fill-color);\n",
              "    }\n",
              "    30% {\n",
              "      border-color: transparent;\n",
              "      border-left-color: var(--fill-color);\n",
              "      border-top-color: var(--fill-color);\n",
              "      border-right-color: var(--fill-color);\n",
              "    }\n",
              "    40% {\n",
              "      border-color: transparent;\n",
              "      border-right-color: var(--fill-color);\n",
              "      border-top-color: var(--fill-color);\n",
              "    }\n",
              "    60% {\n",
              "      border-color: transparent;\n",
              "      border-right-color: var(--fill-color);\n",
              "    }\n",
              "    80% {\n",
              "      border-color: transparent;\n",
              "      border-right-color: var(--fill-color);\n",
              "      border-bottom-color: var(--fill-color);\n",
              "    }\n",
              "    90% {\n",
              "      border-color: transparent;\n",
              "      border-bottom-color: var(--fill-color);\n",
              "    }\n",
              "  }\n",
              "</style>\n",
              "\n",
              "  <script>\n",
              "    async function quickchart(key) {\n",
              "      const quickchartButtonEl =\n",
              "        document.querySelector('#' + key + ' button');\n",
              "      quickchartButtonEl.disabled = true;  // To prevent multiple clicks.\n",
              "      quickchartButtonEl.classList.add('colab-df-spinner');\n",
              "      try {\n",
              "        const charts = await google.colab.kernel.invokeFunction(\n",
              "            'suggestCharts', [key], {});\n",
              "      } catch (error) {\n",
              "        console.error('Error during call to suggestCharts:', error);\n",
              "      }\n",
              "      quickchartButtonEl.classList.remove('colab-df-spinner');\n",
              "      quickchartButtonEl.classList.add('colab-df-quickchart-complete');\n",
              "    }\n",
              "    (() => {\n",
              "      let quickchartButtonEl =\n",
              "        document.querySelector('#df-fd3a4a89-956e-47d9-8c9e-78586f73dc1e button');\n",
              "      quickchartButtonEl.style.display =\n",
              "        google.colab.kernel.accessAllowed ? 'block' : 'none';\n",
              "    })();\n",
              "  </script>\n",
              "</div>\n",
              "\n",
              "    </div>\n",
              "  </div>\n"
            ],
            "application/vnd.google.colaboratory.intrinsic+json": {
              "type": "dataframe",
              "variable_name": "df",
              "summary": "{\n  \"name\": \"df\",\n  \"rows\": 194,\n  \"fields\": [\n    {\n      \"column\": \"Sample\",\n      \"properties\": {\n        \"dtype\": \"string\",\n        \"num_unique_values\": 194,\n        \"samples\": [\n          \"Iberia_Catalonia_UP_Gravettian_Serinya_(low_res)_(n=1)\",\n          \"Spanish_Canarias_La_Palma_(Canarian)_(n=32)\",\n          \"Iberia_Murcia_EBA_Argaric_Late_Bastida_(n=3)\"\n        ],\n        \"semantic_type\": \"\",\n        \"description\": \"\"\n      }\n    },\n    {\n      \"column\": \"KPCA_1\",\n      \"properties\": {\n        \"dtype\": \"number\",\n        \"std\": 0.3494665090826157,\n        \"min\": -0.5658382610775619,\n        \"max\": 0.6594723041328665,\n        \"num_unique_values\": 194,\n        \"samples\": [\n          0.2333881770424481,\n          -0.1937028285613504,\n          0.2413388479862547\n        ],\n        \"semantic_type\": \"\",\n        \"description\": \"\"\n      }\n    },\n    {\n      \"column\": \"KPCA_2\",\n      \"properties\": {\n        \"dtype\": \"number\",\n        \"std\": 0.2759567417050324,\n        \"min\": -0.4890839127605856,\n        \"max\": 0.6820034831146387,\n        \"num_unique_values\": 194,\n        \"samples\": [\n          0.1943335642150314,\n          0.5727898526172545,\n          -0.2378009442933132\n        ],\n        \"semantic_type\": \"\",\n        \"description\": \"\"\n      }\n    },\n    {\n      \"column\": \"KPCA_3\",\n      \"properties\": {\n        \"dtype\": \"number\",\n        \"std\": 0.21345682652394038,\n        \"min\": -0.3585755545959577,\n        \"max\": 0.4548623700478885,\n        \"num_unique_values\": 194,\n        \"samples\": [\n          -0.2106203753260315,\n          0.2962666518251877,\n          -0.0810306898659843\n        ],\n        \"semantic_type\": \"\",\n        \"description\": \"\"\n      }\n    },\n    {\n      \"column\": \"KPCA_4\",\n      \"properties\": {\n        \"dtype\": \"number\",\n        \"std\": 0.18032451096772936,\n        \"min\": -0.4412150031974009,\n        \"max\": 0.4430957355157734,\n        \"num_unique_values\": 194,\n        \"samples\": [\n          -0.1000683366431023,\n          0.2829498406081028,\n          0.1762621195500316\n        ],\n        \"semantic_type\": \"\",\n        \"description\": \"\"\n      }\n    },\n    {\n      \"column\": \"KPCA_5\",\n      \"properties\": {\n        \"dtype\": \"number\",\n        \"std\": 0.1597669126299456,\n        \"min\": -0.420821569600284,\n        \"max\": 0.4917284291092709,\n        \"num_unique_values\": 194,\n        \"samples\": [\n          -0.0145196780889491,\n          0.0294551840361265,\n          0.1327428970825536\n        ],\n        \"semantic_type\": \"\",\n        \"description\": \"\"\n      }\n    },\n    {\n      \"column\": \"KPCA_6\",\n      \"properties\": {\n        \"dtype\": \"number\",\n        \"std\": 0.13382369566202978,\n        \"min\": -0.4895787585420632,\n        \"max\": 0.5035616710465942,\n        \"num_unique_values\": 194,\n        \"samples\": [\n          -0.0189416340917711,\n          0.0117635018904569,\n          0.0272116879465858\n        ],\n        \"semantic_type\": \"\",\n        \"description\": \"\"\n      }\n    },\n    {\n      \"column\": \"KPCA_7\",\n      \"properties\": {\n        \"dtype\": \"number\",\n        \"std\": 0.12101909238007998,\n        \"min\": -0.3522335581087396,\n        \"max\": 0.4010328893598255,\n        \"num_unique_values\": 194,\n        \"samples\": [\n          0.0417677279308755,\n          0.0088429862901038,\n          -0.1303848748620124\n        ],\n        \"semantic_type\": \"\",\n        \"description\": \"\"\n      }\n    },\n    {\n      \"column\": \"KPCA_8\",\n      \"properties\": {\n        \"dtype\": \"number\",\n        \"std\": 0.11658782806550876,\n        \"min\": -0.2954470844033988,\n        \"max\": 0.345826170328934,\n        \"num_unique_values\": 194,\n        \"samples\": [\n          -0.042581383435786,\n          0.0822395700411029,\n          -0.1316805512229711\n        ],\n        \"semantic_type\": \"\",\n        \"description\": \"\"\n      }\n    },\n    {\n      \"column\": \"KPCA_9\",\n      \"properties\": {\n        \"dtype\": \"number\",\n        \"std\": 0.11406971323726249,\n        \"min\": -0.3211401602706183,\n        \"max\": 0.3354306313623919,\n        \"num_unique_values\": 194,\n        \"samples\": [\n          -0.0652134072709968,\n          0.0679689115399233,\n          -0.1904117272608072\n        ],\n        \"semantic_type\": \"\",\n        \"description\": \"\"\n      }\n    }\n  ]\n}"
            }
          },
          "metadata": {},
          "execution_count": 4
        }
      ]
    },
    {
      "cell_type": "code",
      "source": [
        "from google.colab import drive\n",
        "drive.mount('/content/drive')"
      ],
      "metadata": {
        "id": "P3CeDs9dqc0z"
      },
      "execution_count": null,
      "outputs": []
    },
    {
      "cell_type": "markdown",
      "metadata": {
        "id": "o7XvGsU4xvfH"
      },
      "source": [
        "## 📌 **PAS 3: Processar les dades i assignar regions**"
      ]
    },
    {
      "cell_type": "code",
      "metadata": {
        "colab": {
          "base_uri": "https://localhost:8080/"
        },
        "id": "Np5LuqcmxvfI",
        "outputId": "bae296f1-5d66-47cd-907a-9a25e72ab25e"
      },
      "source": [
        "# Assignació de regions per nom de mostra\n",
        "def assign_region(name):\n",
        "    if \"Catalonia\" in name: return \"Catalunya\"\n",
        "    elif \"Valencia\" in name: return \"València\"\n",
        "    elif \"Andalusia\" in name: return \"Andalusia\"\n",
        "    elif \"Galicia\" in name: return \"Galícia\"\n",
        "    elif \"Madrid\" in name: return \"Madrid\"\n",
        "    elif \"Basque\" in name: return \"País Basc\"\n",
        "    elif \"Castile\" in name: return \"Castella\"\n",
        "    elif \"Extremadura\" in name: return \"Extremadura\"\n",
        "    elif \"Portugal\" in name: return \"Portugal\"\n",
        "    else: return \"Altres\"\n",
        "\n",
        "df[\"Region\"] = df.iloc[:, 0].apply(assign_region)\n",
        "\n",
        "# Seleccionar components 3D\n",
        "components = [df.columns[1], df.columns[2], df.columns[3]]\n",
        "df_kpca_3D = df[[df.columns[0], \"Region\"] + components].dropna()\n",
        "\n",
        "print(\"✅ Dades processades correctament\")"
      ],
      "execution_count": null,
      "outputs": [
        {
          "output_type": "stream",
          "name": "stdout",
          "text": [
            "✅ Dades processades correctament\n"
          ]
        }
      ]
    },
    {
      "cell_type": "markdown",
      "metadata": {
        "id": "jeEM95L2xvfJ"
      },
      "source": [
        "## 📌 **PAS 4: Visualitzar Kernel PCA 3D**"
      ]
    },
    {
      "cell_type": "code",
      "metadata": {
        "colab": {
          "base_uri": "https://localhost:8080/",
          "height": 542
        },
        "id": "7PPA6ekmxvfK",
        "outputId": "d1d760b3-70af-4aca-9702-384542368e6a"
      },
      "source": [
        "import plotly.express as px\n",
        "\n",
        "# Crear el gràfic 3D\n",
        "fig = px.scatter_3d(\n",
        "    df_kpca_3D, x=components[0], y=components[1], z=components[2],\n",
        "    color='Region', text=df.columns[0],\n",
        "    title=\"Kernel PCA 3D - Mostres G25\",\n",
        "    labels={components[0]: \"KPCA 1\", components[1]: \"KPCA 2\", components[2]: \"KPCA 3\"},\n",
        "    opacity=0.8\n",
        ")\n",
        "\n",
        "# Mostrar gràfic\n",
        "fig.show()"
      ],
      "execution_count": null,
      "outputs": [
        {
          "output_type": "display_data",
          "data": {
            "text/html": [
              "<html>\n",
              "<head><meta charset=\"utf-8\" /></head>\n",
              "<body>\n",
              "    <div>            <script src=\"https://cdnjs.cloudflare.com/ajax/libs/mathjax/2.7.5/MathJax.js?config=TeX-AMS-MML_SVG\"></script><script type=\"text/javascript\">if (window.MathJax && window.MathJax.Hub && window.MathJax.Hub.Config) {window.MathJax.Hub.Config({SVG: {font: \"STIX-Web\"}});}</script>                <script type=\"text/javascript\">window.PlotlyConfig = {MathJaxConfig: 'local'};</script>\n",
              "        <script charset=\"utf-8\" src=\"https://cdn.plot.ly/plotly-2.35.2.min.js\"></script>                <div id=\"ab71b64c-1f25-495c-b41e-121bcd82a133\" class=\"plotly-graph-div\" style=\"height:525px; width:100%;\"></div>            <script type=\"text/javascript\">                                    window.PLOTLYENV=window.PLOTLYENV || {};                                    if (document.getElementById(\"ab71b64c-1f25-495c-b41e-121bcd82a133\")) {                    Plotly.newPlot(                        \"ab71b64c-1f25-495c-b41e-121bcd82a133\",                        [{\"hovertemplate\":\"Region=Altres\\u003cbr\\u003eKPCA 1=%{x}\\u003cbr\\u003eKPCA 2=%{y}\\u003cbr\\u003eKPCA 3=%{z}\\u003cbr\\u003eSample=%{text}\\u003cextra\\u003e\\u003c\\u002fextra\\u003e\",\"legendgroup\":\"Altres\",\"marker\":{\"color\":\"#636efa\",\"opacity\":0.8,\"symbol\":\"circle\"},\"mode\":\"markers+text\",\"name\":\"Altres\",\"scene\":\"scene\",\"showlegend\":true,\"text\":[\"Spanish_Aragon_(Aragonese)_(n=5)\",\"Spanish_Aragon_North_(Aragonese)_(n=10)\",\"Spanish_Asturias_(Asturian)_(n=2)\",\"Spanish_Baleares_(Catalan)_(n=5)\",\"Spanish_Baleares_Ibiza_(Catalan)_(n=13)\",\"Spanish_Baleares_Mallorca_(Catalan)_(n=9)\",\"Spanish_Baleares_Menorca_(Catalan)_(n=3)\",\"Spanish_Biscay_West_(Cantabrian)_(n=10)\",\"Spanish_Canarias_(Canarian)_(n=19)\",\"Spanish_Canarias_El_Hierro_(Canarian)_(n=34)\",\"Spanish_Canarias_Fuerteventura_(Canarian)_(n=32)\",\"Spanish_Canarias_Gran_Canaria_(Canarian)_(n=114)\",\"Spanish_Canarias_Gran_Canaria_(Canarian)_o_(n=3)\",\"Spanish_Canarias_La_Gomera_(Canarian)_(n=76)\",\"Spanish_Canarias_La_Gomera_(Canarian)_o1_(n=1)\",\"Spanish_Canarias_La_Gomera_(Canarian)_o2_(n=1)\",\"Spanish_Canarias_La_Palma_(Canarian)_(n=32)\",\"Spanish_Canarias_La_Palma_(Canarian)_o_(n=3)\",\"Spanish_Canarias_Lanzarote_(Canarian)_(n=56)\",\"Spanish_Canarias_Tenerife_(Canarian)_(n=61)\",\"Spanish_Canarias_Tenerife_(Canarian)_o_(n=3)\",\"Spanish_Cantabria_(Cantabrian)_(n=14)\",\"Spanish_Castilla-La_Mancha_(Castilian)_(n=7)\",\"Spanish_La_Rioja_(Riojan)_(n=11)\",\"Spanish_Murcia_(Murcian)_(n=8)\",\"Spanish_Navarre_(Navarrese)_(n=2)\",\"Iberia_Aragon_EN_(n=7)\",\"Iberia_Aragon_MLN_(n=2)\",\"Iberia_Asturias_CA_(Intermediate_Profile)_(n=2)\",\"Iberia_Asturias_CA_(Northern_Profile)_(n=1)\",\"Iberia_Asturias_LBA_(low_res)_(n=2)\",\"Iberia_Asturias_LBA_(n=1)\",\"Iberia_Asturias_MBA_(n=1)\",\"Iberia_Asturias_Mesolithic_Canes_(n=1)\",\"Iberia_Asturias_Mesolithic_El_Mazo_(n=2)\",\"Iberia_Asturias_Mesolithic_El_Toral_(n=1)\",\"Iberia_Asturias_Mesolithic_Hou_Amieva_(n=2)\",\"Iberia_Cantabria_EBA_(low_res)_(n=1)\",\"Iberia_Cantabria_UP_Magdalenian_El_Miron_(n=1)\",\"Iberia_Castilla-La_Mancha_CA_(n=1)\",\"Iberia_Castilla-La_Mancha_EBA_(n=1)\",\"Iberia_Gibraltar_EBA_(n=2)\",\"Iberia_Gibraltar_EN_(n=1)\",\"Iberia_La_Rioja_BA_(n=1)\",\"Iberia_La_Rioja_EBA_(n=3)\",\"Iberia_Murcia_CA_(n=6)\",\"Iberia_Murcia_EBA_Argaric_Early_Almoloya_(n=39)\",\"Iberia_Murcia_EBA_Argaric_Early_Bastida_(n=5)\",\"Iberia_Murcia_EBA_Argaric_Late_Almoloya_(n=20)\",\"Iberia_Murcia_EBA_Argaric_Late_Bastida_(n=3)\",\"Iberia_Murcia_EBA_Argaric_Late_Cerro_del_Morron_(n=3)\",\"Iberia_Murcia_EBA_Argaric_Late_Zapateria_(n=1)\",\"Iberia_Murcia_EBA_Proto-Argaric_Molinos_del_Papel_(n=2)\",\"Iberia_Navarre_EIA_(low_res)_(n=1)\",\"Iberia_Navarre_EIA_(n=2)\",\"Iberia_Pais_Vasco_CA_(low_res)_(n=5)\",\"Iberia_Pais_Vasco_CA_(n=11)\",\"Iberia_Pais_Vasco_EBA_(n=3)\",\"Iberia_Pais_Vasco_IA_Celtiberian_(n=3)\",\"Iberia_Pais_Vasco_LBA_(n=1)\",\"Iberia_Pais_Vasco_MBA_(low_res)_(n=1)\",\"Iberia_Pais_Vasco_MBA_(n=1)\",\"Iberia_Pais_Vasco_MLN_(n=10)\"],\"x\":[-0.5658382610775619,-0.5252346021359184,-0.416300618284171,-0.475916952055151,-0.4784423267579983,-0.4819858948081365,-0.3593883213509826,-0.5220133943598337,-0.1911688242646007,0.0265778125516789,0.0048568518817318,-0.2131291033225454,-0.1920084967393192,0.0191598735870244,0.2719860883376403,0.1822115516374642,-0.1937028285613504,-0.1764926095763901,-0.0146914838550794,-0.2599866993682366,-0.2770860992958174,-0.5550104271357192,-0.5448716760403213,-0.5270184302530713,-0.4638723502275175,-0.3623879736866503,0.5148380060950998,0.5810435265759168,0.1723129942695673,0.1037628791057221,-0.0820818775960356,0.1856610272789225,-0.0032496595702488,0.3011224334027236,0.3098160526095272,0.3077385572015602,0.3072373296256743,0.0052068278073762,0.2889475025181452,0.2696717203107154,0.2846496098252452,-0.0472973224030096,0.4003507071573169,-0.0541483109861905,0.0877916731158786,0.6389634385628477,0.204025626617036,0.1693796294019842,0.2232017239559054,0.2413388479862547,0.1734277318153321,0.2162850365262846,0.121576307717172,0.009236855641664,-0.1091279465833263,0.4141307363109238,0.6253940418329922,0.0160938174880702,-0.2126205152096795,0.1021617340460376,0.2716877897558855,0.0242017588007327,0.6117698249883994],\"y\":[-0.0819609093949535,-0.2557000166082108,0.0285959488429168,0.0156591250255215,0.1472422282921198,0.0647454707867846,0.0867625196328974,-0.2687716354286079,0.6150089870009954,0.6574750754146383,0.6652674289784983,0.5856234875776953,0.1320477335651032,0.6820034831146387,0.2370017994689405,0.2973690037493442,0.5727898526172545,0.3362266066260701,0.6741014898190517,0.5835691615508938,0.365738918675995,-0.0583154505917726,0.0337998052330209,-0.111182788427181,0.250298060045088,-0.0632876658696439,-0.0297609863334325,-0.2048696496994252,0.0510785658240198,0.1120745248196042,-0.1481533912907958,-0.0181001110549915,-0.1389092261934211,0.1904631573765635,0.199465732970825,0.1973393354247191,0.1968034590650278,-0.1391501693893228,0.1774225140314402,-0.1440452549499802,-0.0269375324814226,-0.3191057697923545,0.0565889739835189,-0.3523499396249464,-0.3275674993150689,-0.2599269615673885,-0.4848252933052345,-0.4890839127605856,-0.4862087117448405,-0.2378009442933132,-0.2734195009998233,0.3161198540819373,-0.1432334530097863,0.0305671844158067,-0.2745051561035872,-0.0372881472031599,-0.3198692604455364,-0.3166387644845964,-0.1528414443835936,0.0721132408068882,0.1359874431613275,-0.0893560211992776,-0.3059395404178277],\"z\":[0.1359794238390641,-0.0185435236178047,0.0927851300896068,0.1144173455145165,0.2172966820714597,0.1641564697570398,0.129434786995416,-0.0360086933639406,0.3109234172453174,0.1802087452216805,0.2070562873887076,0.3130476581338932,0.0326593986422382,0.1997621149726182,-0.2177969916435437,-0.1340061154555084,0.2962666518251877,0.1837661523630163,0.2211199602568898,0.337613786958251,0.2072631687761067,0.1396514540094044,0.1717453031448213,0.1709315254518052,0.2989948625799778,0.0074041247605158,0.1490331690156156,0.3098713842301628,-0.2271422007304612,-0.2176869350360641,-0.1739837768532412,-0.2675522429846035,-0.0327831613838739,-0.3314027974233405,-0.3585755545959577,-0.3523022644498543,-0.3505779827600306,-0.1990006438811631,-0.2902056109964039,0.0537063526914331,-0.1780865108413561,0.1170338229889631,-0.0350593735024872,-0.1798321552370455,-0.1003774834612151,0.4239537254378094,0.2456663143625648,0.1247016770413084,0.2100663644672539,-0.0810306898659843,0.0266786885618752,-0.1310849343087972,0.09551339003935,-0.0708072083288304,-0.2074169682097779,0.0066464290143747,0.4011899020180365,-0.0555629079444767,-0.0879694646670792,-0.1733467207597581,-0.2315764311187666,-0.0928781156190313,0.370075340399271],\"type\":\"scatter3d\"},{\"hovertemplate\":\"Region=Castella\\u003cbr\\u003eKPCA 1=%{x}\\u003cbr\\u003eKPCA 2=%{y}\\u003cbr\\u003eKPCA 3=%{z}\\u003cbr\\u003eSample=%{text}\\u003cextra\\u003e\\u003c\\u002fextra\\u003e\",\"legendgroup\":\"Castella\",\"marker\":{\"color\":\"#EF553B\",\"opacity\":0.8,\"symbol\":\"circle\"},\"mode\":\"markers+text\",\"name\":\"Castella\",\"scene\":\"scene\",\"showlegend\":true,\"text\":[\"Spanish_Castile_and_Leon_(Castilian)_(n=7)\",\"Spanish_Castile_and_Leon_Burgos_North_(Castilian)_(n=10)\",\"Spanish_Castile_and_Leon_Leon_(Castilian)_(n=3)\",\"Spanish_Castile_and_Leon_Soria_(Castilian)_(n=2)\",\"Iberia_Castile_and_Leon_Bell_Beaker_(n=2)\",\"Iberia_Castile_and_Leon_Bell_Beaker_(No_Steppe_Profile)_(n=3)\",\"Iberia_Castile_and_Leon_CA_(Intermediate_Profile)_(n=1)\",\"Iberia_Castile_and_Leon_CA_(n=17)\",\"Iberia_Castile_and_Leon_CA_(Northern_Profile)_(n=1)\",\"Iberia_Castile_and_Leon_Early_Medieval_(Ibero-Romance_Profile)_(n=4)\",\"Iberia_Castile_and_Leon_Early_Medieval_(Vasconic_Profile)_(n=10)\",\"Iberia_Castile_and_Leon_Early-High_Medieval_(Ibero-Romance_Profile)_(n=9)\",\"Iberia_Castile_and_Leon_Early-High_Medieval_(Vasconic_Profile)_(n=3)\",\"Iberia_Castile_and_Leon_EBA_(n=4)\",\"Iberia_Castile_and_Leon_EN_(n=3)\",\"Iberia_Castile_and_Leon_High_Medieval_(Vasconic_Profile)_(n=1)\",\"Iberia_Castile_and_Leon_LIA_Cantabri_(low_res)_(n=2)\",\"Iberia_Castile_and_Leon_LIA_Cantabri_(n=2)\",\"Iberia_Castile_and_Leon_MBA_(n=3)\",\"Iberia_Castile_and_Leon_Mesolithic_La_Brana_(n=1)\",\"Iberia_Castile_and_Leon_MLN_(n=4)\"],\"x\":[-0.5146484780818191,-0.5194489099821552,-0.3319175309644925,-0.035448730944271,0.0021749120283918,0.5418042950338436,-0.0200352111205061,0.6293300652645467,-0.1404338182945901,-0.4767794393578911,-0.4119987015636557,-0.5227658986353522,-0.4094094839007536,-0.0220369120053223,0.4223970491802525,-0.1092268660297421,0.1438663667077528,-0.2639146199634025,0.1792080632787897,0.2798431994429325,0.6368499781363917],\"y\":[0.1801763991765456,-0.1684497859083716,0.2462572839272398,-0.0374405584072392,-0.3241237031725841,-0.1962844898006366,-0.1421205561072759,-0.3401564733465603,-0.0442766035447114,0.0004588844488683,-0.3013940192946067,-0.0977315233717115,-0.3287416453429933,-0.4010625484827735,0.0428426672181894,-0.2377655032712911,0.0440218288596452,-0.3150238979525786,-0.1316337758465267,0.1679991877325355,-0.2685290282834623],\"z\":[0.2421048117640004,0.0288439328117639,0.1748776396493523,-0.2142084624731665,-0.0438954605562381,0.2471199479733035,-0.1396965422481697,0.4471815722646834,-0.2191868008536031,0.1305222302754313,-0.1385114928050826,0.1650076788480788,-0.1490442572820186,-0.0074681030695283,-0.0012449885950381,-0.2611675800807098,-0.256938792983074,-0.103938208899809,-0.1055638391772852,-0.2610675908897906,0.4059873175670334],\"type\":\"scatter3d\"},{\"hovertemplate\":\"Region=Catalunya\\u003cbr\\u003eKPCA 1=%{x}\\u003cbr\\u003eKPCA 2=%{y}\\u003cbr\\u003eKPCA 3=%{z}\\u003cbr\\u003eSample=%{text}\\u003cextra\\u003e\\u003c\\u002fextra\\u003e\",\"legendgroup\":\"Catalunya\",\"marker\":{\"color\":\"#00cc96\",\"opacity\":0.8,\"symbol\":\"circle\"},\"mode\":\"markers+text\",\"name\":\"Catalunya\",\"scene\":\"scene\",\"showlegend\":true,\"text\":[\"Spanish_Catalonia_(Catalan)_(n=4)\",\"Spanish_Catalonia_Barcelones_(Catalan)_(n=5)\",\"Spanish_Catalonia_Camp_de_Tarragona_(Catalan)_(n=8)\",\"Spanish_Catalonia_Central_(Catalan)_(n=9)\",\"Spanish_Catalonia_Girona_(Catalan)_(n=11)\",\"Spanish_Catalonia_Lleida_(Catalan)_(n=9)\",\"Spanish_Catalonia_Penedes_(Catalan)_(n=11)\",\"Spanish_Catalonia_Peri-Barcelona_(Catalan)_(n=10)\",\"Spanish_Catalonia_Pirineu_(Catalan)_(n=6)\",\"Spanish_Catalonia_Terres_de_l'Ebre_(Catalan)_(n=5)\",\"Iberia_Catalonia_Bell_Beaker_(No_Steppe_Profile)_(n=1)\",\"Iberia_Catalonia_CA_(n=1)\",\"Iberia_Catalonia_Classical_Empuries_(n=1)\",\"Iberia_Catalonia_Early_Medieval_(n=4)\",\"Iberia_Catalonia_Early_Medieval_Empuries_(low_res)_(n=1)\",\"Iberia_Catalonia_Early_Medieval_Visigoth_(low_res)_(n=1)\",\"Iberia_Catalonia_Early_Medieval_Visigoth_(n=6)\",\"Iberia_Catalonia_Early_Modern_Barcelona_Reapers'_War_Spanish_Soldier_(Basque_Profile)_(n=1)\",\"Iberia_Catalonia_Early_Modern_Barcelona_Reapers'_War_Spanish_Soldier_(Spanish_Profile)_(n=1)\",\"Iberia_Catalonia_EBA_(n=10)\",\"Iberia_Catalonia_EBA_o_(n=1)\",\"Iberia_Catalonia_Hellenistic_Empuries_(Catalonia_IA_Profile)_(n=1)\",\"Iberia_Catalonia_Hellenistic_Empuries_(Classical_Greek_Profile)_(n=1)\",\"Iberia_Catalonia_Hellenistic_Empuries_(Insular_West_Med_Profile)_(low_res)_(n=1)\",\"Iberia_Catalonia_Hellenistic_Empuries_(Northern_Euro_Profile)_(n=1)\",\"Iberia_Catalonia_High_Medieval_(low_res)_(n=1)\",\"Iberia_Catalonia_High_Medieval_(n=3)\",\"Iberia_Catalonia_IA_(low_res)_(n=2)\",\"Iberia_Catalonia_IA_(n=7)\",\"Iberia_Catalonia_IA_o_(low_res)_(n=1)\",\"Iberia_Catalonia_IA-Classical_Empuries_(Catalonia_IA_Profile)_(n=1)\",\"Iberia_Catalonia_IA-Classical_Empuries_(Classical_Greek_Profile)_(n=1)\",\"Iberia_Catalonia_Late_Medieval_(n=1)\",\"Iberia_Catalonia_MLN_(n=9)\",\"Iberia_Catalonia_Roman_Empire_Empuries_(Catalonia_IA_Profile)_(low_res)_(n=1)\",\"Iberia_Catalonia_Roman_Empire_Empuries_(Catalonia_IA_Profile)_(n=1)\",\"Iberia_Catalonia_Roman_Empire_Empuries_(Southern_Iberian_Profile)_(low_res)_(n=1)\",\"Iberia_Catalonia_Roman_Empire_Empuries_(West_Med_Profile)_(low_res)_(n=1)\",\"Iberia_Catalonia_Roman_Empire-Late_Antiquity_Empuries_(Catalonia_IA_Profile)_(low_res)_(n=1)\",\"Iberia_Catalonia_UP_Azilian_(n=1)\",\"Iberia_Catalonia_UP_Gravettian_Serinya_(low_res)_(n=1)\",\"Iberia_Catalonia_UP_Gravettian_Serinya_(n=1)\"],\"x\":[-0.5418260388754849,-0.4691284160172855,-0.4487626178766002,-0.5334232626275226,-0.4765682211683514,-0.5222163890491797,-0.5078218678508678,-0.5326547386390388,-0.540768051869098,-0.5289436458664105,0.2987326711352426,0.5463944508175621,-0.1991311893068022,-0.4557647530419673,0.1671979362540284,0.2208740957744466,-0.1970745980955121,0.083583935597167,-0.1705256418200768,0.0776435143071972,-0.0637115096924954,-0.0250083136646344,0.2663637271611806,0.190218718379695,0.1304079257399873,0.2072753640177659,-0.3811984169400517,0.0888146620469904,-0.0821266396351772,0.252622206833451,-0.0537174389283001,0.2353287291338118,-0.078899596845458,0.6418380557330607,0.0850432947371882,-0.0828644582150617,0.0907797891842403,-0.2391237214968643,0.2724439186120095,0.3052309680426622,0.2333881770424481,0.2779090270864013],\"y\":[0.0248832893844687,-0.0393520064769315,0.0640744401144508,-0.054405278062897,0.0294997720752492,-0.08012085269005,0.0012394443935023,0.0023830440155513,-0.0112921207222926,-0.0282539864734408,0.1399634622758396,-0.1267480076831638,-0.204285962648106,0.0439981788874147,0.1429441929434896,0.1528278391331027,0.071518099142405,-0.0553222766344472,0.2388024232725359,-0.3735443076102874,-0.0516084789668692,-0.0551617076083306,0.1723923887622468,0.2267474917159612,0.1039217716620711,0.1570048938330932,0.1757164768998139,0.0634185939278613,-0.2170519058887123,0.1492707424147261,-0.1539249817249615,0.1810021875130818,0.2181043176915151,-0.289665194031416,0.0174255342529297,-0.0103150221029421,0.4304682290315447,0.1512350834554321,0.1610541465612166,0.1947340846251583,0.1943335642150314,0.1660068492174289],\"z\":[0.1850662962949265,0.0590287837816667,0.1653787618268467,0.1173397008037554,0.1504330365196278,0.1201047230035522,0.1307821749383265,0.1691496538281444,0.1993662847188853,0.1393255274312185,-0.2134022791781756,0.2209544478051326,-0.2103077122607164,0.1261879636505578,-0.2346685894367504,-0.2399055664623225,-0.0675317314709356,-0.2888711477115089,0.0503322606263115,-0.0090518078788049,-0.2456009555497025,-0.2138589936884687,-0.2402097742708873,-0.1512116160967551,-0.2461119741866464,-0.2034830798443548,0.1838296127012785,-0.1524947183165601,-0.0620094245062206,-0.2576814221827302,-0.2772675426851949,-0.2049432092120356,0.0284289747727396,0.4243671414080142,-0.237452013761358,-0.0844431760240705,0.0116014582737132,0.0930716679127475,-0.2547764495464448,-0.3443540823693501,-0.2106203753260315,-0.2544418265670453],\"type\":\"scatter3d\"},{\"hovertemplate\":\"Region=Extremadura\\u003cbr\\u003eKPCA 1=%{x}\\u003cbr\\u003eKPCA 2=%{y}\\u003cbr\\u003eKPCA 3=%{z}\\u003cbr\\u003eSample=%{text}\\u003cextra\\u003e\\u003c\\u002fextra\\u003e\",\"legendgroup\":\"Extremadura\",\"marker\":{\"color\":\"#ab63fa\",\"opacity\":0.8,\"symbol\":\"circle\"},\"mode\":\"markers+text\",\"name\":\"Extremadura\",\"scene\":\"scene\",\"showlegend\":true,\"text\":[\"Spanish_Extremadura_(Extremaduran)_(n=6)\"],\"x\":[-0.4797217320687543],\"y\":[0.222023229543994],\"z\":[0.249315002508134],\"type\":\"scatter3d\"},{\"hovertemplate\":\"Region=Galícia\\u003cbr\\u003eKPCA 1=%{x}\\u003cbr\\u003eKPCA 2=%{y}\\u003cbr\\u003eKPCA 3=%{z}\\u003cbr\\u003eSample=%{text}\\u003cextra\\u003e\\u003c\\u002fextra\\u003e\",\"legendgroup\":\"Galícia\",\"marker\":{\"color\":\"#FFA15A\",\"opacity\":0.8,\"symbol\":\"circle\"},\"mode\":\"markers+text\",\"name\":\"Galícia\",\"scene\":\"scene\",\"showlegend\":true,\"text\":[\"Spanish_Galicia_(Galician)_(n=19)\",\"Iberia_Galicia_Early_Medieval_(n=1)\",\"Iberia_Galicia_Mesolithic_(n=1)\"],\"x\":[-0.5051376521999601,-0.0409000159071536,0.3074475461353499],\"y\":[0.2602059627106808,0.3263106130346694,0.1969441676884141],\"z\":[0.2916157536927855,0.0448643368714487,-0.3505020484796241],\"type\":\"scatter3d\"},{\"hovertemplate\":\"Region=València\\u003cbr\\u003eKPCA 1=%{x}\\u003cbr\\u003eKPCA 2=%{y}\\u003cbr\\u003eKPCA 3=%{z}\\u003cbr\\u003eSample=%{text}\\u003cextra\\u003e\\u003c\\u002fextra\\u003e\",\"legendgroup\":\"València\",\"marker\":{\"color\":\"#19d3f3\",\"opacity\":0.8,\"symbol\":\"circle\"},\"mode\":\"markers+text\",\"name\":\"València\",\"scene\":\"scene\",\"showlegend\":true,\"text\":[\"Spanish_Valencia_(Valencian)_(n=13)\",\"Spanish_Valencia_Alicante_(Valencian)_(n=8)\",\"Spanish_Valencia_Castellon_(Valencian)_(n=7)\",\"Iberia_Valencia_CA_(n=16)\",\"Iberia_Valencia_EBA_(n=7)\",\"Iberia_Valencia_EN_(n=2)\",\"Iberia_Valencia_High_Medieval_(n=2)\",\"Iberia_Valencia_High_Medieval_(North_African-Mixed_Profile)_(low_res)_(n=1)\",\"Iberia_Valencia_IA_(n=3)\",\"Iberia_Valencia_Late_Medieval_(low_res)_(n=1)\",\"Iberia_Valencia_Late_Medieval_(n=3)\",\"Iberia_Valencia_LBA_(n=5)\",\"Iberia_Valencia_Mesolithic_Casa_Corona_(n=2)\",\"Iberia_Valencia_Mesolithic_Santa_Maira_(n=1)\",\"Iberia_Valencia_MLN_(n=10)\"],\"x\":[-0.559669262353171,-0.5294445467888353,-0.5024056390897769,0.6594723041328665,0.1179332310713469,0.4536262198753312,-0.0268146096922183,0.2693647299969431,-0.1842821341161078,-0.1075480686458057,0.0360955963231392,0.0036463861753352,0.3096177620504697,0.3054951681655093,0.6158089021412821],\"y\":[0.0337984111432259,0.0568803176357383,-0.1649932276427294,-0.2959301586577474,-0.4682574221613504,-0.1245128948251272,0.3561938506935135,0.2176564835432796,-0.3518065324194201,0.1664591912466368,0.475242725384902,-0.3164523516095187,0.199242512470747,0.1949882871722142,-0.2035564463302836],\"z\":[0.2086740840615953,0.1833427435729313,0.0499813268501601,0.448911601610296,0.1650736529114991,0.223687979004104,0.0615379165142017,-0.225916689938925,-0.0147181971085761,0.0049568816323256,0.0922278474665673,0.1677454888905653,-0.357757751906056,-0.3450155677144046,0.3572467854541477],\"type\":\"scatter3d\"},{\"hovertemplate\":\"Region=País Basc\\u003cbr\\u003eKPCA 1=%{x}\\u003cbr\\u003eKPCA 2=%{y}\\u003cbr\\u003eKPCA 3=%{z}\\u003cbr\\u003eSample=%{text}\\u003cextra\\u003e\\u003c\\u002fextra\\u003e\",\"legendgroup\":\"País Basc\",\"marker\":{\"color\":\"#FF6692\",\"opacity\":0.8,\"symbol\":\"circle\"},\"mode\":\"markers+text\",\"name\":\"País Basc\",\"scene\":\"scene\",\"showlegend\":true,\"text\":[\"Basque_France_(n=10)\",\"Basque_France_Labourd_(n=11)\",\"Basque_France_Lower_Navarre_(n=11)\",\"Basque_France_Soule_(n=11)\",\"Basque_Spain_(n=25)\",\"Basque_Spain_Alava_(n=12)\",\"Basque_Spain_Biscay_(n=11)\",\"Basque_Spain_Gipuzkoa_Central_(n=11)\",\"Basque_Spain_Gipuzkoa_Southwest_(n=11)\",\"Basque_Spain_Gipuzkoa_Tolosa_(n=9)\",\"Basque_Spain_Navarre_(n=1)\",\"Basque_Spain_Navarre_Central-West_(n=11)\",\"Basque_Spain_Navarre_Northwest_(n=11)\",\"Basque_Spain_Navarre_Roncal_(n=11)\"],\"x\":[-0.3289185900759305,-0.3663651603092532,-0.4037718142490404,-0.3728113924179038,-0.4051964468475764,-0.4608200989746813,-0.3349993880044761,-0.3848325634705956,-0.3563327633492092,-0.3467305446184359,-0.1116169439403453,-0.419777835437277,-0.3218641166506788,-0.414556723627746],\"y\":[-0.3029090622803087,-0.3632068929769161,-0.3851227415223906,-0.3954164689736011,-0.4021948804951491,-0.3018339218612173,-0.4122937684469376,-0.3779343153133788,-0.4285208368772298,-0.4227731210364531,-0.1513072145130862,-0.2762022190367656,-0.4610594958224233,-0.4028557372924332],\"z\":[-0.2042574317530086,-0.1473284629181892,-0.151026496387359,-0.1568326537663561,-0.1644365181336891,-0.1348727521403327,-0.2425264453159332,-0.1282584736230004,-0.201370857237862,-0.1706159621904801,-0.2632500325775688,-0.0521342760864571,-0.2031036859043372,-0.166180211484082],\"type\":\"scatter3d\"},{\"hovertemplate\":\"Region=Andalusia\\u003cbr\\u003eKPCA 1=%{x}\\u003cbr\\u003eKPCA 2=%{y}\\u003cbr\\u003eKPCA 3=%{z}\\u003cbr\\u003eSample=%{text}\\u003cextra\\u003e\\u003c\\u002fextra\\u003e\",\"legendgroup\":\"Andalusia\",\"marker\":{\"color\":\"#B6E880\",\"opacity\":0.8,\"symbol\":\"circle\"},\"mode\":\"markers+text\",\"name\":\"Andalusia\",\"scene\":\"scene\",\"showlegend\":true,\"text\":[\"Iberia_Andalusia_CA_(n=13)\",\"Iberia_Andalusia_Early_Medieval_(n=7)\",\"Iberia_Andalusia_Early_Modern_(low_res)_(n=2)\",\"Iberia_Andalusia_Early_Modern_(SSA-Mixed_Profile)_(n=1)\",\"Iberia_Andalusia_EBA_(n=3)\",\"Iberia_Andalusia_EBA_(North_African-Mixed_Profile)_(n=1)\",\"Iberia_Andalusia_EIA_Tartessian_(n=1)\",\"Iberia_Andalusia_EN_(n=1)\",\"Iberia_Andalusia_High_Medieval_(low_res)_(n=1)\",\"Iberia_Andalusia_High_Medieval_(n=2)\",\"Iberia_Andalusia_High_Medieval_o_(SSA-Mixed_Profile)_(n=1)\",\"Iberia_Andalusia_Late_Antiquity_(n=3)\",\"Iberia_Andalusia_Late_Antiquity-Early_Medieval_Visigoth_(low_res)_(n=4)\",\"Iberia_Andalusia_Late_Medieval_(n=5)\",\"Iberia_Andalusia_Mesolithic_(n=1)\",\"Iberia_Andalusia_MLN_(n=5)\",\"Iberia_Andalusia_UP_Solutrean_Cueva_del_Malalmuerzo_(n=1)\"],\"x\":[0.6395786616227711,-0.0181203827372366,0.1693775088111472,0.2774654671902443,0.1231727143472836,0.1242947297068093,0.1360044783283468,0.5104521959438335,0.2449351721032291,0.1339761653730493,0.2774586180018202,-0.0114043589172816,0.0830920303851128,0.1043166949481914,0.3059179461398795,0.6343048364709081,0.2777621976701816],\"y\":[-0.3033937966678551,0.5887581151226637,0.2501217452888048,0.1655225000747697,-0.190736864437155,0.2043037419393645,-0.053619250659922,-0.0367813757038266,0.2349145594070802,0.5169458279937609,0.1655776673501642,0.4451556966229454,0.4498088288031042,0.6001500179577077,0.195197816601338,-0.2514054314715087,0.1663340062942698],\"z\":[0.4548623700478885,0.1995480554863354,-0.1122063416795435,-0.253204552100419,-0.0531606378600557,0.0311092206980896,-0.1053337891665586,0.1521931371971339,-0.2017148127117687,0.0467136506974696,-0.2531689680230235,0.1087830906993881,0.0442553079576165,0.1047709487748144,-0.3443877889340471,0.3952103715318256,-0.2548772263453209],\"type\":\"scatter3d\"},{\"hovertemplate\":\"Region=Madrid\\u003cbr\\u003eKPCA 1=%{x}\\u003cbr\\u003eKPCA 2=%{y}\\u003cbr\\u003eKPCA 3=%{z}\\u003cbr\\u003eSample=%{text}\\u003cextra\\u003e\\u003c\\u002fextra\\u003e\",\"legendgroup\":\"Madrid\",\"marker\":{\"color\":\"#FF97FF\",\"opacity\":0.8,\"symbol\":\"circle\"},\"mode\":\"markers+text\",\"name\":\"Madrid\",\"scene\":\"scene\",\"showlegend\":true,\"text\":[\"Iberia_Madrid_Bell_Beaker_(n=4)\",\"Iberia_Madrid_Bell_Beaker_(No_Steppe_Profile)_(n=4)\",\"Iberia_Madrid_CA_(n=6)\",\"Iberia_Madrid_CA_(North_African_Profile)_(n=1)\",\"Iberia_Madrid_EBA_(n=1)\"],\"x\":[-0.2405369388942755,0.5465739275242095,0.6031378048061833,0.2776403694616151,0.2408378748199161],\"y\":[-0.3830720516783743,-0.1617637991229884,-0.2104979611326101,0.1662107346510498,-0.2375948580738904],\"z\":[-0.1873685844780412,0.2463200178881329,0.3315110073001783,-0.2533484832021415,0.1735732794715845],\"type\":\"scatter3d\"},{\"hovertemplate\":\"Region=Portugal\\u003cbr\\u003eKPCA 1=%{x}\\u003cbr\\u003eKPCA 2=%{y}\\u003cbr\\u003eKPCA 3=%{z}\\u003cbr\\u003eSample=%{text}\\u003cextra\\u003e\\u003c\\u002fextra\\u003e\",\"legendgroup\":\"Portugal\",\"marker\":{\"color\":\"#FECB52\",\"opacity\":0.8,\"symbol\":\"circle\"},\"mode\":\"markers+text\",\"name\":\"Portugal\",\"scene\":\"scene\",\"showlegend\":true,\"text\":[\"Iberia_Portugal_Bell_Beaker_(No_Steppe_Profile)_(n=3)\",\"Iberia_Portugal_CA_(n=12)\",\"Iberia_Portugal_Early_Medieval_Monte_da_Nora_(n=3)\",\"Iberia_Portugal_EN_Cardial_(low_res)_(n=2)\",\"Iberia_Portugal_Late_Antiquity_Conimbriga_(n=2)\",\"Iberia_Portugal_Late_Antiquity_Miroico_(n=2)\",\"Iberia_Portugal_Late_Antiquity-Early_Medieval_Miroico_(n=4)\",\"Iberia_Portugal_Late_Antiquity-Early_Medieval_Miroico_o_(n=2)\",\"Iberia_Portugal_LNCA_(low_res)_(n=2)\",\"Iberia_Portugal_LNCA_(n=3)\",\"Iberia_Portugal_MBA_(n=4)\",\"Iberia_Portugal_Mesolithic_(n=1)\",\"Iberia_Portugal_MN_(n=4)\"],\"x\":[0.5150618513672603,0.6261350069806431,-0.108033449421485,0.2586251599651212,-0.390572687570732,-0.172990517099677,-0.4025275913681148,0.2234626380323457,0.4238966573246416,0.5563380329906065,0.0344397456865052,0.2913238414562119,0.6096279061372538],\"y\":[-0.182981566069505,-0.2309085748683757,0.5915534404785483,0.0850487445965504,-0.1744305156408767,0.4110556195407261,0.1896770050704294,0.4390157086202682,-0.040507749743471,-0.230028471493874,-0.296425771860668,0.1800287614058195,-0.237224196305058],\"z\":[0.1817925599124787,0.3745485416130277,0.2449319097883815,-0.2216105893959002,-0.0420955289834712,0.2344994399998924,0.1804794133986541,-0.0801985851008362,0.04596579430295,0.2788203859384792,0.1315975480590357,-0.2981879065902529,0.3865152932038408],\"type\":\"scatter3d\"}],                        {\"template\":{\"data\":{\"histogram2dcontour\":[{\"type\":\"histogram2dcontour\",\"colorbar\":{\"outlinewidth\":0,\"ticks\":\"\"},\"colorscale\":[[0.0,\"#0d0887\"],[0.1111111111111111,\"#46039f\"],[0.2222222222222222,\"#7201a8\"],[0.3333333333333333,\"#9c179e\"],[0.4444444444444444,\"#bd3786\"],[0.5555555555555556,\"#d8576b\"],[0.6666666666666666,\"#ed7953\"],[0.7777777777777778,\"#fb9f3a\"],[0.8888888888888888,\"#fdca26\"],[1.0,\"#f0f921\"]]}],\"choropleth\":[{\"type\":\"choropleth\",\"colorbar\":{\"outlinewidth\":0,\"ticks\":\"\"}}],\"histogram2d\":[{\"type\":\"histogram2d\",\"colorbar\":{\"outlinewidth\":0,\"ticks\":\"\"},\"colorscale\":[[0.0,\"#0d0887\"],[0.1111111111111111,\"#46039f\"],[0.2222222222222222,\"#7201a8\"],[0.3333333333333333,\"#9c179e\"],[0.4444444444444444,\"#bd3786\"],[0.5555555555555556,\"#d8576b\"],[0.6666666666666666,\"#ed7953\"],[0.7777777777777778,\"#fb9f3a\"],[0.8888888888888888,\"#fdca26\"],[1.0,\"#f0f921\"]]}],\"heatmap\":[{\"type\":\"heatmap\",\"colorbar\":{\"outlinewidth\":0,\"ticks\":\"\"},\"colorscale\":[[0.0,\"#0d0887\"],[0.1111111111111111,\"#46039f\"],[0.2222222222222222,\"#7201a8\"],[0.3333333333333333,\"#9c179e\"],[0.4444444444444444,\"#bd3786\"],[0.5555555555555556,\"#d8576b\"],[0.6666666666666666,\"#ed7953\"],[0.7777777777777778,\"#fb9f3a\"],[0.8888888888888888,\"#fdca26\"],[1.0,\"#f0f921\"]]}],\"heatmapgl\":[{\"type\":\"heatmapgl\",\"colorbar\":{\"outlinewidth\":0,\"ticks\":\"\"},\"colorscale\":[[0.0,\"#0d0887\"],[0.1111111111111111,\"#46039f\"],[0.2222222222222222,\"#7201a8\"],[0.3333333333333333,\"#9c179e\"],[0.4444444444444444,\"#bd3786\"],[0.5555555555555556,\"#d8576b\"],[0.6666666666666666,\"#ed7953\"],[0.7777777777777778,\"#fb9f3a\"],[0.8888888888888888,\"#fdca26\"],[1.0,\"#f0f921\"]]}],\"contourcarpet\":[{\"type\":\"contourcarpet\",\"colorbar\":{\"outlinewidth\":0,\"ticks\":\"\"}}],\"contour\":[{\"type\":\"contour\",\"colorbar\":{\"outlinewidth\":0,\"ticks\":\"\"},\"colorscale\":[[0.0,\"#0d0887\"],[0.1111111111111111,\"#46039f\"],[0.2222222222222222,\"#7201a8\"],[0.3333333333333333,\"#9c179e\"],[0.4444444444444444,\"#bd3786\"],[0.5555555555555556,\"#d8576b\"],[0.6666666666666666,\"#ed7953\"],[0.7777777777777778,\"#fb9f3a\"],[0.8888888888888888,\"#fdca26\"],[1.0,\"#f0f921\"]]}],\"surface\":[{\"type\":\"surface\",\"colorbar\":{\"outlinewidth\":0,\"ticks\":\"\"},\"colorscale\":[[0.0,\"#0d0887\"],[0.1111111111111111,\"#46039f\"],[0.2222222222222222,\"#7201a8\"],[0.3333333333333333,\"#9c179e\"],[0.4444444444444444,\"#bd3786\"],[0.5555555555555556,\"#d8576b\"],[0.6666666666666666,\"#ed7953\"],[0.7777777777777778,\"#fb9f3a\"],[0.8888888888888888,\"#fdca26\"],[1.0,\"#f0f921\"]]}],\"mesh3d\":[{\"type\":\"mesh3d\",\"colorbar\":{\"outlinewidth\":0,\"ticks\":\"\"}}],\"scatter\":[{\"fillpattern\":{\"fillmode\":\"overlay\",\"size\":10,\"solidity\":0.2},\"type\":\"scatter\"}],\"parcoords\":[{\"type\":\"parcoords\",\"line\":{\"colorbar\":{\"outlinewidth\":0,\"ticks\":\"\"}}}],\"scatterpolargl\":[{\"type\":\"scatterpolargl\",\"marker\":{\"colorbar\":{\"outlinewidth\":0,\"ticks\":\"\"}}}],\"bar\":[{\"error_x\":{\"color\":\"#2a3f5f\"},\"error_y\":{\"color\":\"#2a3f5f\"},\"marker\":{\"line\":{\"color\":\"#E5ECF6\",\"width\":0.5},\"pattern\":{\"fillmode\":\"overlay\",\"size\":10,\"solidity\":0.2}},\"type\":\"bar\"}],\"scattergeo\":[{\"type\":\"scattergeo\",\"marker\":{\"colorbar\":{\"outlinewidth\":0,\"ticks\":\"\"}}}],\"scatterpolar\":[{\"type\":\"scatterpolar\",\"marker\":{\"colorbar\":{\"outlinewidth\":0,\"ticks\":\"\"}}}],\"histogram\":[{\"marker\":{\"pattern\":{\"fillmode\":\"overlay\",\"size\":10,\"solidity\":0.2}},\"type\":\"histogram\"}],\"scattergl\":[{\"type\":\"scattergl\",\"marker\":{\"colorbar\":{\"outlinewidth\":0,\"ticks\":\"\"}}}],\"scatter3d\":[{\"type\":\"scatter3d\",\"line\":{\"colorbar\":{\"outlinewidth\":0,\"ticks\":\"\"}},\"marker\":{\"colorbar\":{\"outlinewidth\":0,\"ticks\":\"\"}}}],\"scattermapbox\":[{\"type\":\"scattermapbox\",\"marker\":{\"colorbar\":{\"outlinewidth\":0,\"ticks\":\"\"}}}],\"scatterternary\":[{\"type\":\"scatterternary\",\"marker\":{\"colorbar\":{\"outlinewidth\":0,\"ticks\":\"\"}}}],\"scattercarpet\":[{\"type\":\"scattercarpet\",\"marker\":{\"colorbar\":{\"outlinewidth\":0,\"ticks\":\"\"}}}],\"carpet\":[{\"aaxis\":{\"endlinecolor\":\"#2a3f5f\",\"gridcolor\":\"white\",\"linecolor\":\"white\",\"minorgridcolor\":\"white\",\"startlinecolor\":\"#2a3f5f\"},\"baxis\":{\"endlinecolor\":\"#2a3f5f\",\"gridcolor\":\"white\",\"linecolor\":\"white\",\"minorgridcolor\":\"white\",\"startlinecolor\":\"#2a3f5f\"},\"type\":\"carpet\"}],\"table\":[{\"cells\":{\"fill\":{\"color\":\"#EBF0F8\"},\"line\":{\"color\":\"white\"}},\"header\":{\"fill\":{\"color\":\"#C8D4E3\"},\"line\":{\"color\":\"white\"}},\"type\":\"table\"}],\"barpolar\":[{\"marker\":{\"line\":{\"color\":\"#E5ECF6\",\"width\":0.5},\"pattern\":{\"fillmode\":\"overlay\",\"size\":10,\"solidity\":0.2}},\"type\":\"barpolar\"}],\"pie\":[{\"automargin\":true,\"type\":\"pie\"}]},\"layout\":{\"autotypenumbers\":\"strict\",\"colorway\":[\"#636efa\",\"#EF553B\",\"#00cc96\",\"#ab63fa\",\"#FFA15A\",\"#19d3f3\",\"#FF6692\",\"#B6E880\",\"#FF97FF\",\"#FECB52\"],\"font\":{\"color\":\"#2a3f5f\"},\"hovermode\":\"closest\",\"hoverlabel\":{\"align\":\"left\"},\"paper_bgcolor\":\"white\",\"plot_bgcolor\":\"#E5ECF6\",\"polar\":{\"bgcolor\":\"#E5ECF6\",\"angularaxis\":{\"gridcolor\":\"white\",\"linecolor\":\"white\",\"ticks\":\"\"},\"radialaxis\":{\"gridcolor\":\"white\",\"linecolor\":\"white\",\"ticks\":\"\"}},\"ternary\":{\"bgcolor\":\"#E5ECF6\",\"aaxis\":{\"gridcolor\":\"white\",\"linecolor\":\"white\",\"ticks\":\"\"},\"baxis\":{\"gridcolor\":\"white\",\"linecolor\":\"white\",\"ticks\":\"\"},\"caxis\":{\"gridcolor\":\"white\",\"linecolor\":\"white\",\"ticks\":\"\"}},\"coloraxis\":{\"colorbar\":{\"outlinewidth\":0,\"ticks\":\"\"}},\"colorscale\":{\"sequential\":[[0.0,\"#0d0887\"],[0.1111111111111111,\"#46039f\"],[0.2222222222222222,\"#7201a8\"],[0.3333333333333333,\"#9c179e\"],[0.4444444444444444,\"#bd3786\"],[0.5555555555555556,\"#d8576b\"],[0.6666666666666666,\"#ed7953\"],[0.7777777777777778,\"#fb9f3a\"],[0.8888888888888888,\"#fdca26\"],[1.0,\"#f0f921\"]],\"sequentialminus\":[[0.0,\"#0d0887\"],[0.1111111111111111,\"#46039f\"],[0.2222222222222222,\"#7201a8\"],[0.3333333333333333,\"#9c179e\"],[0.4444444444444444,\"#bd3786\"],[0.5555555555555556,\"#d8576b\"],[0.6666666666666666,\"#ed7953\"],[0.7777777777777778,\"#fb9f3a\"],[0.8888888888888888,\"#fdca26\"],[1.0,\"#f0f921\"]],\"diverging\":[[0,\"#8e0152\"],[0.1,\"#c51b7d\"],[0.2,\"#de77ae\"],[0.3,\"#f1b6da\"],[0.4,\"#fde0ef\"],[0.5,\"#f7f7f7\"],[0.6,\"#e6f5d0\"],[0.7,\"#b8e186\"],[0.8,\"#7fbc41\"],[0.9,\"#4d9221\"],[1,\"#276419\"]]},\"xaxis\":{\"gridcolor\":\"white\",\"linecolor\":\"white\",\"ticks\":\"\",\"title\":{\"standoff\":15},\"zerolinecolor\":\"white\",\"automargin\":true,\"zerolinewidth\":2},\"yaxis\":{\"gridcolor\":\"white\",\"linecolor\":\"white\",\"ticks\":\"\",\"title\":{\"standoff\":15},\"zerolinecolor\":\"white\",\"automargin\":true,\"zerolinewidth\":2},\"scene\":{\"xaxis\":{\"backgroundcolor\":\"#E5ECF6\",\"gridcolor\":\"white\",\"linecolor\":\"white\",\"showbackground\":true,\"ticks\":\"\",\"zerolinecolor\":\"white\",\"gridwidth\":2},\"yaxis\":{\"backgroundcolor\":\"#E5ECF6\",\"gridcolor\":\"white\",\"linecolor\":\"white\",\"showbackground\":true,\"ticks\":\"\",\"zerolinecolor\":\"white\",\"gridwidth\":2},\"zaxis\":{\"backgroundcolor\":\"#E5ECF6\",\"gridcolor\":\"white\",\"linecolor\":\"white\",\"showbackground\":true,\"ticks\":\"\",\"zerolinecolor\":\"white\",\"gridwidth\":2}},\"shapedefaults\":{\"line\":{\"color\":\"#2a3f5f\"}},\"annotationdefaults\":{\"arrowcolor\":\"#2a3f5f\",\"arrowhead\":0,\"arrowwidth\":1},\"geo\":{\"bgcolor\":\"white\",\"landcolor\":\"#E5ECF6\",\"subunitcolor\":\"white\",\"showland\":true,\"showlakes\":true,\"lakecolor\":\"white\"},\"title\":{\"x\":0.05},\"mapbox\":{\"style\":\"light\"}}},\"scene\":{\"domain\":{\"x\":[0.0,1.0],\"y\":[0.0,1.0]},\"xaxis\":{\"title\":{\"text\":\"KPCA 1\"}},\"yaxis\":{\"title\":{\"text\":\"KPCA 2\"}},\"zaxis\":{\"title\":{\"text\":\"KPCA 3\"}}},\"legend\":{\"title\":{\"text\":\"Region\"},\"tracegroupgap\":0},\"title\":{\"text\":\"Kernel PCA 3D - Mostres G25\"}},                        {\"responsive\": true}                    ).then(function(){\n",
              "                            \n",
              "var gd = document.getElementById('ab71b64c-1f25-495c-b41e-121bcd82a133');\n",
              "var x = new MutationObserver(function (mutations, observer) {{\n",
              "        var display = window.getComputedStyle(gd).display;\n",
              "        if (!display || display === 'none') {{\n",
              "            console.log([gd, 'removed!']);\n",
              "            Plotly.purge(gd);\n",
              "            observer.disconnect();\n",
              "        }}\n",
              "}});\n",
              "\n",
              "// Listen for the removal of the full notebook cells\n",
              "var notebookContainer = gd.closest('#notebook-container');\n",
              "if (notebookContainer) {{\n",
              "    x.observe(notebookContainer, {childList: true});\n",
              "}}\n",
              "\n",
              "// Listen for the clearing of the current output cell\n",
              "var outputEl = gd.closest('.output');\n",
              "if (outputEl) {{\n",
              "    x.observe(outputEl, {childList: true});\n",
              "}}\n",
              "\n",
              "                        })                };                            </script>        </div>\n",
              "</body>\n",
              "</html>"
            ]
          },
          "metadata": {}
        }
      ]
    },
    {
      "cell_type": "code",
      "source": [
        "!pip install -U kaleido\n",
        "\n"
      ],
      "metadata": {
        "colab": {
          "base_uri": "https://localhost:8080/"
        },
        "id": "29RVhJ2mDZAs",
        "outputId": "b46244d4-7215-45bf-f0cd-1d3a0fa4bfe4"
      },
      "execution_count": null,
      "outputs": [
        {
          "output_type": "stream",
          "name": "stdout",
          "text": [
            "Requirement already satisfied: kaleido in /usr/local/lib/python3.11/dist-packages (0.2.1)\n"
          ]
        }
      ]
    },
    {
      "cell_type": "markdown",
      "metadata": {
        "id": "mO1wZnn7xvfL"
      },
      "source": [
        "## 📌 **PAS 5: Desar la visualització com a imatge**"
      ]
    },
    {
      "cell_type": "code",
      "metadata": {
        "colab": {
          "base_uri": "https://localhost:8080/",
          "height": 538
        },
        "id": "ZH_4J3I-xvfL",
        "outputId": "39491816-41ed-4fb7-9eba-64ee00093ea6"
      },
      "source": [
        "import plotly.io as pio\n",
        "\n",
        "# Desar la imatge en PNG\n",
        "pio.write_image(fig, \"/content/drive/MyDrive/G25/KPCA_G25_3D.png\", engine=\"kaleido\")\n",
        "\n",
        "print(\"✅ Imatge desada correctament en: /content/drive/MyDrive/G25/KPCA_G25_3D.png\")\n"
      ],
      "execution_count": null,
      "outputs": [
        {
          "output_type": "error",
          "ename": "ValueError",
          "evalue": "\nImage export using the \"kaleido\" engine requires the kaleido package,\nwhich can be installed using pip:\n    $ pip install -U kaleido\n",
          "traceback": [
            "\u001b[0;31m---------------------------------------------------------------------------\u001b[0m",
            "\u001b[0;31mValueError\u001b[0m                                Traceback (most recent call last)",
            "\u001b[0;32m<ipython-input-12-154f2f721a1b>\u001b[0m in \u001b[0;36m<cell line: 0>\u001b[0;34m()\u001b[0m\n\u001b[1;32m      2\u001b[0m \u001b[0;34m\u001b[0m\u001b[0m\n\u001b[1;32m      3\u001b[0m \u001b[0;31m# Desar la imatge en PNG\u001b[0m\u001b[0;34m\u001b[0m\u001b[0;34m\u001b[0m\u001b[0m\n\u001b[0;32m----> 4\u001b[0;31m \u001b[0mpio\u001b[0m\u001b[0;34m.\u001b[0m\u001b[0mwrite_image\u001b[0m\u001b[0;34m(\u001b[0m\u001b[0mfig\u001b[0m\u001b[0;34m,\u001b[0m \u001b[0;34m\"/content/drive/MyDrive/G25/KPCA_G25_3D.png\"\u001b[0m\u001b[0;34m,\u001b[0m \u001b[0mengine\u001b[0m\u001b[0;34m=\u001b[0m\u001b[0;34m\"kaleido\"\u001b[0m\u001b[0;34m)\u001b[0m\u001b[0;34m\u001b[0m\u001b[0;34m\u001b[0m\u001b[0m\n\u001b[0m\u001b[1;32m      5\u001b[0m \u001b[0;34m\u001b[0m\u001b[0m\n\u001b[1;32m      6\u001b[0m \u001b[0mprint\u001b[0m\u001b[0;34m(\u001b[0m\u001b[0;34m\"✅ Imatge desada correctament en: /content/drive/MyDrive/G25/KPCA_G25_3D.png\"\u001b[0m\u001b[0;34m)\u001b[0m\u001b[0;34m\u001b[0m\u001b[0;34m\u001b[0m\u001b[0m\n",
            "\u001b[0;32m/usr/local/lib/python3.11/dist-packages/plotly/io/_kaleido.py\u001b[0m in \u001b[0;36mwrite_image\u001b[0;34m(fig, file, format, scale, width, height, validate, engine)\u001b[0m\n\u001b[1;32m    264\u001b[0m     \u001b[0;31m# -------------\u001b[0m\u001b[0;34m\u001b[0m\u001b[0;34m\u001b[0m\u001b[0m\n\u001b[1;32m    265\u001b[0m     \u001b[0;31m# Do this first so we don't create a file if image conversion fails\u001b[0m\u001b[0;34m\u001b[0m\u001b[0;34m\u001b[0m\u001b[0m\n\u001b[0;32m--> 266\u001b[0;31m     img_data = to_image(\n\u001b[0m\u001b[1;32m    267\u001b[0m         \u001b[0mfig\u001b[0m\u001b[0;34m,\u001b[0m\u001b[0;34m\u001b[0m\u001b[0;34m\u001b[0m\u001b[0m\n\u001b[1;32m    268\u001b[0m         \u001b[0mformat\u001b[0m\u001b[0;34m=\u001b[0m\u001b[0mformat\u001b[0m\u001b[0;34m,\u001b[0m\u001b[0;34m\u001b[0m\u001b[0;34m\u001b[0m\u001b[0m\n",
            "\u001b[0;32m/usr/local/lib/python3.11/dist-packages/plotly/io/_kaleido.py\u001b[0m in \u001b[0;36mto_image\u001b[0;34m(fig, format, width, height, scale, validate, engine)\u001b[0m\n\u001b[1;32m    130\u001b[0m     \u001b[0;31m# Raise informative error message if Kaleido is not installed\u001b[0m\u001b[0;34m\u001b[0m\u001b[0;34m\u001b[0m\u001b[0m\n\u001b[1;32m    131\u001b[0m     \u001b[0;32mif\u001b[0m \u001b[0mscope\u001b[0m \u001b[0;32mis\u001b[0m \u001b[0;32mNone\u001b[0m\u001b[0;34m:\u001b[0m\u001b[0;34m\u001b[0m\u001b[0;34m\u001b[0m\u001b[0m\n\u001b[0;32m--> 132\u001b[0;31m         raise ValueError(\n\u001b[0m\u001b[1;32m    133\u001b[0m             \"\"\"\n\u001b[1;32m    134\u001b[0m \u001b[0mImage\u001b[0m \u001b[0mexport\u001b[0m \u001b[0musing\u001b[0m \u001b[0mthe\u001b[0m \u001b[0;34m\"kaleido\"\u001b[0m \u001b[0mengine\u001b[0m \u001b[0mrequires\u001b[0m \u001b[0mthe\u001b[0m \u001b[0mkaleido\u001b[0m \u001b[0mpackage\u001b[0m\u001b[0;34m,\u001b[0m\u001b[0;34m\u001b[0m\u001b[0;34m\u001b[0m\u001b[0m\n",
            "\u001b[0;31mValueError\u001b[0m: \nImage export using the \"kaleido\" engine requires the kaleido package,\nwhich can be installed using pip:\n    $ pip install -U kaleido\n"
          ]
        }
      ]
    },
    {
      "source": [
        "import plotly.io as pio\n",
        "import kaleido #Import kaleido\n",
        "\n",
        "# Desar la imatge en PNG\n",
        "pio.write_image(fig, \"/content/drive/MyDrive/G25/KPCA_G25_3D.png\", engine=\"kaleido\")\n",
        "\n",
        "print(\"✅ Imatge desada correctament en: /content/drive/MyDrive/G25/KPCA_G25_3D.png\")"
      ],
      "cell_type": "code",
      "metadata": {
        "colab": {
          "base_uri": "https://localhost:8080/",
          "height": 538
        },
        "id": "a8toxdl-ECDz",
        "outputId": "93ef7e88-b0e0-4c06-acf8-544cd5352763"
      },
      "execution_count": null,
      "outputs": [
        {
          "output_type": "error",
          "ename": "ValueError",
          "evalue": "\nImage export using the \"kaleido\" engine requires the kaleido package,\nwhich can be installed using pip:\n    $ pip install -U kaleido\n",
          "traceback": [
            "\u001b[0;31m---------------------------------------------------------------------------\u001b[0m",
            "\u001b[0;31mValueError\u001b[0m                                Traceback (most recent call last)",
            "\u001b[0;32m<ipython-input-13-93673e2ec532>\u001b[0m in \u001b[0;36m<cell line: 0>\u001b[0;34m()\u001b[0m\n\u001b[1;32m      3\u001b[0m \u001b[0;34m\u001b[0m\u001b[0m\n\u001b[1;32m      4\u001b[0m \u001b[0;31m# Desar la imatge en PNG\u001b[0m\u001b[0;34m\u001b[0m\u001b[0;34m\u001b[0m\u001b[0m\n\u001b[0;32m----> 5\u001b[0;31m \u001b[0mpio\u001b[0m\u001b[0;34m.\u001b[0m\u001b[0mwrite_image\u001b[0m\u001b[0;34m(\u001b[0m\u001b[0mfig\u001b[0m\u001b[0;34m,\u001b[0m \u001b[0;34m\"/content/drive/MyDrive/G25/KPCA_G25_3D.png\"\u001b[0m\u001b[0;34m,\u001b[0m \u001b[0mengine\u001b[0m\u001b[0;34m=\u001b[0m\u001b[0;34m\"kaleido\"\u001b[0m\u001b[0;34m)\u001b[0m\u001b[0;34m\u001b[0m\u001b[0;34m\u001b[0m\u001b[0m\n\u001b[0m\u001b[1;32m      6\u001b[0m \u001b[0;34m\u001b[0m\u001b[0m\n\u001b[1;32m      7\u001b[0m \u001b[0mprint\u001b[0m\u001b[0;34m(\u001b[0m\u001b[0;34m\"✅ Imatge desada correctament en: /content/drive/MyDrive/G25/KPCA_G25_3D.png\"\u001b[0m\u001b[0;34m)\u001b[0m\u001b[0;34m\u001b[0m\u001b[0;34m\u001b[0m\u001b[0m\n",
            "\u001b[0;32m/usr/local/lib/python3.11/dist-packages/plotly/io/_kaleido.py\u001b[0m in \u001b[0;36mwrite_image\u001b[0;34m(fig, file, format, scale, width, height, validate, engine)\u001b[0m\n\u001b[1;32m    264\u001b[0m     \u001b[0;31m# -------------\u001b[0m\u001b[0;34m\u001b[0m\u001b[0;34m\u001b[0m\u001b[0m\n\u001b[1;32m    265\u001b[0m     \u001b[0;31m# Do this first so we don't create a file if image conversion fails\u001b[0m\u001b[0;34m\u001b[0m\u001b[0;34m\u001b[0m\u001b[0m\n\u001b[0;32m--> 266\u001b[0;31m     img_data = to_image(\n\u001b[0m\u001b[1;32m    267\u001b[0m         \u001b[0mfig\u001b[0m\u001b[0;34m,\u001b[0m\u001b[0;34m\u001b[0m\u001b[0;34m\u001b[0m\u001b[0m\n\u001b[1;32m    268\u001b[0m         \u001b[0mformat\u001b[0m\u001b[0;34m=\u001b[0m\u001b[0mformat\u001b[0m\u001b[0;34m,\u001b[0m\u001b[0;34m\u001b[0m\u001b[0;34m\u001b[0m\u001b[0m\n",
            "\u001b[0;32m/usr/local/lib/python3.11/dist-packages/plotly/io/_kaleido.py\u001b[0m in \u001b[0;36mto_image\u001b[0;34m(fig, format, width, height, scale, validate, engine)\u001b[0m\n\u001b[1;32m    130\u001b[0m     \u001b[0;31m# Raise informative error message if Kaleido is not installed\u001b[0m\u001b[0;34m\u001b[0m\u001b[0;34m\u001b[0m\u001b[0m\n\u001b[1;32m    131\u001b[0m     \u001b[0;32mif\u001b[0m \u001b[0mscope\u001b[0m \u001b[0;32mis\u001b[0m \u001b[0;32mNone\u001b[0m\u001b[0;34m:\u001b[0m\u001b[0;34m\u001b[0m\u001b[0;34m\u001b[0m\u001b[0m\n\u001b[0;32m--> 132\u001b[0;31m         raise ValueError(\n\u001b[0m\u001b[1;32m    133\u001b[0m             \"\"\"\n\u001b[1;32m    134\u001b[0m \u001b[0mImage\u001b[0m \u001b[0mexport\u001b[0m \u001b[0musing\u001b[0m \u001b[0mthe\u001b[0m \u001b[0;34m\"kaleido\"\u001b[0m \u001b[0mengine\u001b[0m \u001b[0mrequires\u001b[0m \u001b[0mthe\u001b[0m \u001b[0mkaleido\u001b[0m \u001b[0mpackage\u001b[0m\u001b[0;34m,\u001b[0m\u001b[0;34m\u001b[0m\u001b[0;34m\u001b[0m\u001b[0m\n",
            "\u001b[0;31mValueError\u001b[0m: \nImage export using the \"kaleido\" engine requires the kaleido package,\nwhich can be installed using pip:\n    $ pip install -U kaleido\n"
          ]
        }
      ]
    },
    {
      "cell_type": "code",
      "source": [
        "import plotly.io as pio\n",
        "\n",
        "if \"kaleido\" in pio.kaleido.scope._installed_extensions:\n",
        "    print(\"✅ Kaleido està instal·lat correctament!\")\n",
        "else:\n",
        "    print(\"❌ Error: Kaleido no està instal·lat!\")\n"
      ],
      "metadata": {
        "colab": {
          "base_uri": "https://localhost:8080/",
          "height": 257
        },
        "id": "4-wX47UkFWRU",
        "outputId": "388949a0-3ad0-4ca7-cf19-50a6854dd231"
      },
      "execution_count": null,
      "outputs": [
        {
          "output_type": "error",
          "ename": "AttributeError",
          "evalue": "'NoneType' object has no attribute '_installed_extensions'",
          "traceback": [
            "\u001b[0;31m---------------------------------------------------------------------------\u001b[0m",
            "\u001b[0;31mAttributeError\u001b[0m                            Traceback (most recent call last)",
            "\u001b[0;32m<ipython-input-14-74a8f4de0151>\u001b[0m in \u001b[0;36m<cell line: 0>\u001b[0;34m()\u001b[0m\n\u001b[1;32m      1\u001b[0m \u001b[0;32mimport\u001b[0m \u001b[0mplotly\u001b[0m\u001b[0;34m.\u001b[0m\u001b[0mio\u001b[0m \u001b[0;32mas\u001b[0m \u001b[0mpio\u001b[0m\u001b[0;34m\u001b[0m\u001b[0;34m\u001b[0m\u001b[0m\n\u001b[1;32m      2\u001b[0m \u001b[0;34m\u001b[0m\u001b[0m\n\u001b[0;32m----> 3\u001b[0;31m \u001b[0;32mif\u001b[0m \u001b[0;34m\"kaleido\"\u001b[0m \u001b[0;32min\u001b[0m \u001b[0mpio\u001b[0m\u001b[0;34m.\u001b[0m\u001b[0mkaleido\u001b[0m\u001b[0;34m.\u001b[0m\u001b[0mscope\u001b[0m\u001b[0;34m.\u001b[0m\u001b[0m_installed_extensions\u001b[0m\u001b[0;34m:\u001b[0m\u001b[0;34m\u001b[0m\u001b[0;34m\u001b[0m\u001b[0m\n\u001b[0m\u001b[1;32m      4\u001b[0m     \u001b[0mprint\u001b[0m\u001b[0;34m(\u001b[0m\u001b[0;34m\"✅ Kaleido està instal·lat correctament!\"\u001b[0m\u001b[0;34m)\u001b[0m\u001b[0;34m\u001b[0m\u001b[0;34m\u001b[0m\u001b[0m\n\u001b[1;32m      5\u001b[0m \u001b[0;32melse\u001b[0m\u001b[0;34m:\u001b[0m\u001b[0;34m\u001b[0m\u001b[0;34m\u001b[0m\u001b[0m\n",
            "\u001b[0;31mAttributeError\u001b[0m: 'NoneType' object has no attribute '_installed_extensions'"
          ]
        }
      ]
    }
  ],
  "metadata": {
    "colab": {
      "provenance": [],
      "include_colab_link": true
    },
    "kernelspec": {
      "display_name": "Python 3",
      "language": "python",
      "name": "python3"
    },
    "language_info": {
      "file_extension": ".py",
      "mimetype": "text/x-python",
      "name": "python",
      "nbconvert_exporter": "python",
      "pygments_lexer": "ipython3",
      "version": "3.8.10"
    }
  },
  "nbformat": 4,
  "nbformat_minor": 0
}